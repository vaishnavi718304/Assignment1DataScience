{
 "cells": [
  {
   "cell_type": "markdown",
   "id": "4c03fcdc-41d4-457f-a948-eb4bad8b1504",
   "metadata": {
    "panel-layout": {
     "height": 60.5938,
     "visible": true,
     "width": 100
    }
   },
   "source": [
    "# Data Science Tools and Ecosystem\n"
   ]
  },
  {
   "cell_type": "markdown",
   "id": "be0eaf0e-812b-4917-85d0-4fc914c23dfe",
   "metadata": {},
   "source": [
    "## Introduction\n",
    "In this notebook, we summarize the key languages, libraries, and tools used by data scientists, along with examples of basic arithmetic operations.\n"
   ]
  },
  {
   "cell_type": "markdown",
   "id": "722a2d10-321f-4802-b0f3-6caa61275f15",
   "metadata": {},
   "source": [
    "## Popular Data Science Languages\n",
    "- Python\n",
    "- R\n",
    "- SQL\n",
    "- Scala\n",
    "- Julia\n"
   ]
  },
  {
   "cell_type": "markdown",
   "id": "ba971be8-257e-4ab1-8faf-8844eb5960fe",
   "metadata": {},
   "source": [
    "## Common Data Science Libraries\n",
    "- Pandas (Python)\n",
    "- NumPy (Python)\n",
    "- Scikit-learn (Python)\n",
    "- TensorFlow (Python)\n",
    "- ggplot2 (R)\n"
   ]
  },
  {
   "cell_type": "markdown",
   "id": "3e639d21-ea60-4261-85e3-4eccd6147370",
   "metadata": {},
   "source": [
    "## Data Science Tools\n",
    "\n",
    "| Tool              | Type                  |\n",
    "|-------------------|-----------------------|\n",
    "| Jupyter Notebook  | Development Platform  |\n",
    "| RStudio           | Development Platform  |\n",
    "| Apache Spark      | Big Data Framework    |\n",
    "| GitHub            | Version Control       |\n",
    "| IBM Watson Studio | Collaborative Platform|\n"
   ]
  },
  {
   "cell_type": "markdown",
   "id": "3f03c3b1-6ded-480d-b2cd-fdcc1a381be7",
   "metadata": {},
   "source": [
    "## Arithmetic Expression Examples\n",
    "Below are some basic arithmetic operations such as multiplication and addition.\n"
   ]
  },
  {
   "cell_type": "code",
   "execution_count": 9,
   "id": "ead84de4-4b17-411d-8160-c9ee33a32bb1",
   "metadata": {},
   "outputs": [
    {
     "name": "stdout",
     "output_type": "stream",
     "text": [
      "Multiplication: 50\n",
      "Addition: 15\n"
     ]
    }
   ],
   "source": [
    "# Multiplication and Addition\n",
    "a = 5\n",
    "b = 10\n",
    "multiply = a * b\n",
    "addition = a + b\n",
    "print(\"Multiplication:\", multiply)\n",
    "print(\"Addition:\", addition)\n"
   ]
  },
  {
   "cell_type": "code",
   "execution_count": 11,
   "id": "4cc17d83-9cf8-46b1-8a9b-93c038e1523c",
   "metadata": {},
   "outputs": [
    {
     "name": "stdout",
     "output_type": "stream",
     "text": [
      "150 minutes is equal to 2.5 hours.\n"
     ]
    }
   ],
   "source": [
    "# Convert minutes to hours\n",
    "minutes = 150\n",
    "hours = minutes / 60\n",
    "print(f\"{minutes} minutes is equal to {hours} hours.\")\n"
   ]
  },
  {
   "cell_type": "markdown",
   "id": "bbd40ef6-0438-4d2c-8166-c9f4175bc260",
   "metadata": {},
   "source": [
    "## Objectives\n",
    "- List popular data science languages\n",
    "- List common data science libraries\n",
    "- Create a table of data science tools\n",
    "- Perform basic arithmetic operations\n",
    "- Convert units using Python code\n"
   ]
  },
  {
   "cell_type": "markdown",
   "id": "c11acda6-4681-4db4-86f7-ad78e58339cb",
   "metadata": {},
   "source": [
    "## Author\n",
    "Vaishnavi Yadavalli\n"
   ]
  },
  {
   "cell_type": "code",
   "execution_count": null,
   "id": "23d2728b-348a-46bc-b74d-d9ee6cdd29c0",
   "metadata": {},
   "outputs": [],
   "source": []
  }
 ],
 "metadata": {
  "kernelspec": {
   "display_name": "Python [conda env:base] *",
   "language": "python",
   "name": "conda-base-py"
  },
  "language_info": {
   "codemirror_mode": {
    "name": "ipython",
    "version": 3
   },
   "file_extension": ".py",
   "mimetype": "text/x-python",
   "name": "python",
   "nbconvert_exporter": "python",
   "pygments_lexer": "ipython3",
   "version": "3.12.7"
  },
  "panel-cell-order": [
   "4c03fcdc-41d4-457f-a948-eb4bad8b1504"
  ]
 },
 "nbformat": 4,
 "nbformat_minor": 5
}
